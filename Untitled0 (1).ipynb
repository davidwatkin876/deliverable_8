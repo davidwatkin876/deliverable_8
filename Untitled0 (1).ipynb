{
  "nbformat": 4,
  "nbformat_minor": 0,
  "metadata": {
    "colab": {
      "provenance": []
    },
    "kernelspec": {
      "name": "python3",
      "display_name": "Python 3"
    },
    "language_info": {
      "name": "python"
    }
  },
  "cells": [
    {
      "cell_type": "code",
      "execution_count": null,
      "metadata": {
        "id": "J2I_5dnH-Jey"
      },
      "outputs": [],
      "source": [
        "import random"
      ]
    },
    {
      "cell_type": "markdown",
      "source": [
        "Using populate_list() to generate a list of random integers between 10 and 50"
      ],
      "metadata": {
        "id": "HMzDJ7rFW6iU"
      }
    },
    {
      "cell_type": "code",
      "source": [
        "def populate_list(length):\n",
        "  return [random.randint(10, 50) for _ in range(length)]"
      ],
      "metadata": {
        "id": "U_1F-wTp-MRJ"
      },
      "execution_count": null,
      "outputs": []
    },
    {
      "cell_type": "markdown",
      "source": [
        "Using sum_list() to calculate the sum of all the elements in the list."
      ],
      "metadata": {
        "id": "ifq3kllTXEqA"
      }
    },
    {
      "cell_type": "code",
      "source": [
        "def sum_list(lst):\n",
        "    return sum(lst)"
      ],
      "metadata": {
        "id": "1wepH_pS-UoK"
      },
      "execution_count": null,
      "outputs": []
    },
    {
      "cell_type": "markdown",
      "source": [
        "Using while loop to repeatedly prompt the user's input."
      ],
      "metadata": {
        "id": "oG3lUc78XK5t"
      }
    },
    {
      "cell_type": "code",
      "source": [
        "while True:\n",
        "    user_entry = int(input(\"Enter an integer between 5 and 15: \"))\n",
        "    if user_entry >= 5 and user_entry <= 15:\n",
        "        break"
      ],
      "metadata": {
        "colab": {
          "base_uri": "https://localhost:8080/"
        },
        "id": "t4anfhXy-Yfs",
        "outputId": "cd2ff79d-ae88-42f2-b77e-08bc2a8a11ae"
      },
      "execution_count": null,
      "outputs": [
        {
          "name": "stdout",
          "output_type": "stream",
          "text": [
            "Enter an integer between 5 and 15: 5\n"
          ]
        }
      ]
    },
    {
      "cell_type": "code",
      "source": [
        "lst = populate_list(user_entry)\n",
        "print(\"The elements of the array are:\", \" \".join(str(x) for x in lst))"
      ],
      "metadata": {
        "colab": {
          "base_uri": "https://localhost:8080/"
        },
        "id": "oxCVGIah-dNy",
        "outputId": "48597d8f-6ee5-4358-f647-f5dbd55cf265"
      },
      "execution_count": null,
      "outputs": [
        {
          "output_type": "stream",
          "name": "stdout",
          "text": [
            "The elements of the array are: 32 44 38 19 38\n"
          ]
        }
      ]
    },
    {
      "cell_type": "code",
      "source": [
        "total_sum = sum_list(lst)\n",
        "print(\"The sum is:\", total_sum)"
      ],
      "metadata": {
        "colab": {
          "base_uri": "https://localhost:8080/"
        },
        "id": "1azYOuh6-e8U",
        "outputId": "bddbe05e-8122-4305-fde8-558c9c55c6df"
      },
      "execution_count": null,
      "outputs": [
        {
          "output_type": "stream",
          "name": "stdout",
          "text": [
            "The sum is: 171\n"
          ]
        }
      ]
    }
  ]
}